{
 "cells": [
  {
   "cell_type": "code",
   "execution_count": 5,
   "metadata": {},
   "outputs": [],
   "source": [
    "import numpy as np\n",
    "import pandas as pd\n",
    "import scipy\n",
    "from scipy import stats\n",
    "\n",
    "mean = np.repeat(0,200)\n",
    "cov = np.identity(200)*1\n",
    "\n",
    "#generate some random data\n",
    "np.random.seed(2017)\n",
    "x = pd.DataFrame(np.random.multivariate_normal(mean, cov, 1000)) #standardize predictor \n",
    "y = pd.DataFrame(np.absolute([np.random.normal(0, 1, 200)])) #survival probability\n",
    "\n",
    "\n",
    "df = pd.concat([x, pd.DataFrame.transpose(y)], axis = 1)"
   ]
  },
  {
   "cell_type": "code",
   "execution_count": 6,
   "metadata": {},
   "outputs": [
    {
     "data": {
      "text/html": [
       "<div>\n",
       "<style scoped>\n",
       "    .dataframe tbody tr th:only-of-type {\n",
       "        vertical-align: middle;\n",
       "    }\n",
       "\n",
       "    .dataframe tbody tr th {\n",
       "        vertical-align: top;\n",
       "    }\n",
       "\n",
       "    .dataframe thead th {\n",
       "        text-align: right;\n",
       "    }\n",
       "</style>\n",
       "<table border=\"1\" class=\"dataframe\">\n",
       "  <thead>\n",
       "    <tr style=\"text-align: right;\">\n",
       "      <th></th>\n",
       "      <th>0</th>\n",
       "      <th>1</th>\n",
       "      <th>2</th>\n",
       "      <th>3</th>\n",
       "      <th>4</th>\n",
       "      <th>5</th>\n",
       "      <th>6</th>\n",
       "      <th>7</th>\n",
       "      <th>8</th>\n",
       "      <th>9</th>\n",
       "      <th>...</th>\n",
       "      <th>190</th>\n",
       "      <th>191</th>\n",
       "      <th>192</th>\n",
       "      <th>193</th>\n",
       "      <th>194</th>\n",
       "      <th>195</th>\n",
       "      <th>196</th>\n",
       "      <th>197</th>\n",
       "      <th>198</th>\n",
       "      <th>199</th>\n",
       "    </tr>\n",
       "  </thead>\n",
       "  <tbody>\n",
       "    <tr>\n",
       "      <th>0</th>\n",
       "      <td>1.628551</td>\n",
       "      <td>0.720098</td>\n",
       "      <td>0.007607</td>\n",
       "      <td>0.929643</td>\n",
       "      <td>2.140488</td>\n",
       "      <td>0.550268</td>\n",
       "      <td>0.019091</td>\n",
       "      <td>0.834001</td>\n",
       "      <td>0.952903</td>\n",
       "      <td>1.036225</td>\n",
       "      <td>...</td>\n",
       "      <td>0.336108</td>\n",
       "      <td>0.144126</td>\n",
       "      <td>0.09307</td>\n",
       "      <td>0.40163</td>\n",
       "      <td>1.883038</td>\n",
       "      <td>0.038861</td>\n",
       "      <td>0.549138</td>\n",
       "      <td>0.729105</td>\n",
       "      <td>1.030472</td>\n",
       "      <td>0.837141</td>\n",
       "    </tr>\n",
       "  </tbody>\n",
       "</table>\n",
       "<p>1 rows × 200 columns</p>\n",
       "</div>"
      ],
      "text/plain": [
       "        0         1         2         3         4         5         6    \\\n",
       "0  1.628551  0.720098  0.007607  0.929643  2.140488  0.550268  0.019091   \n",
       "\n",
       "        7         8         9      ...          190       191      192  \\\n",
       "0  0.834001  0.952903  1.036225    ...     0.336108  0.144126  0.09307   \n",
       "\n",
       "       193       194       195       196       197       198       199  \n",
       "0  0.40163  1.883038  0.038861  0.549138  0.729105  1.030472  0.837141  \n",
       "\n",
       "[1 rows x 200 columns]"
      ]
     },
     "execution_count": 6,
     "metadata": {},
     "output_type": "execute_result"
    }
   ],
   "source": [
    "y"
   ]
  },
  {
   "cell_type": "code",
   "execution_count": null,
   "metadata": {},
   "outputs": [],
   "source": []
  }
 ],
 "metadata": {
  "kernelspec": {
   "display_name": "Python 2",
   "language": "python",
   "name": "python2"
  },
  "language_info": {
   "codemirror_mode": {
    "name": "ipython",
    "version": 2
   },
   "file_extension": ".py",
   "mimetype": "text/x-python",
   "name": "python",
   "nbconvert_exporter": "python",
   "pygments_lexer": "ipython2",
   "version": "2.7.12"
  }
 },
 "nbformat": 4,
 "nbformat_minor": 2
}
