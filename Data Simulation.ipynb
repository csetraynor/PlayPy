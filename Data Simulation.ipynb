{
 "cells": [
  {
   "cell_type": "code",
   "execution_count": 18,
   "metadata": {},
   "outputs": [],
   "source": [
    "import numpy as np\n",
    "import pandas as pd\n",
    "import scipy\n",
    "from scipy import stats\n",
    "\n",
    "mean = np.repeat(0,200)\n",
    "cov = np.identity(200)*1\n",
    "\n",
    "#generate some random data\n",
    "np.random.seed(2017)\n",
    "x = pd.DataFrame(np.random.multivariate_normal(mean, cov, 1000)) #standardize predictor \n",
    "y = pd.DataFrame(np.absolute([np.random.normal(0, 1, 200)])) #\n",
    "\n",
    "status=np.random.randint(0, 2, 200)  \n",
    "\n",
    "\n",
    "\n",
    "df = pd.concat([x, pd.DataFrame.transpose(y)], axis = 1)"
   ]
  },
  {
   "cell_type": "code",
   "execution_count": null,
   "metadata": {},
   "outputs": [],
   "source": []
  }
 ],
 "metadata": {
  "kernelspec": {
   "display_name": "Python 2",
   "language": "python",
   "name": "python2"
  },
  "language_info": {
   "codemirror_mode": {
    "name": "ipython",
    "version": 2
   },
   "file_extension": ".py",
   "mimetype": "text/x-python",
   "name": "python",
   "nbconvert_exporter": "python",
   "pygments_lexer": "ipython2",
   "version": "2.7.12"
  }
 },
 "nbformat": 4,
 "nbformat_minor": 2
}
