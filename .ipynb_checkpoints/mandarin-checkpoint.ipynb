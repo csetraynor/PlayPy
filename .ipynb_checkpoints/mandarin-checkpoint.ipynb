{
 "cells": [
  {
   "cell_type": "code",
   "execution_count": 2,
   "metadata": {},
   "outputs": [],
   "source": [
    "with open('numbers10.txt') as f:\n",
    "    eng2man = f.readlines()"
   ]
  },
  {
   "cell_type": "code",
   "execution_count": 14,
   "metadata": {},
   "outputs": [],
   "source": [
    "#learn numbers from 0 to 10 in mandarin\n",
    "import random\n"
   ]
  },
  {
   "cell_type": "code",
   "execution_count": 15,
   "metadata": {},
   "outputs": [
    {
     "name": "stdout",
     "output_type": "stream",
     "text": [
      "Which is the number 七 ?\n",
      " \n",
      "4\n"
     ]
    }
   ],
   "source": [
    "n = random.randint(0,10)\n",
    "l = (eng2man[n])\n",
    "prompt =('Which is the number %s \\n' %l) \n",
    "answer = (input(prompt))\n",
    "    "
   ]
  },
  {
   "cell_type": "code",
   "execution_count": 16,
   "metadata": {},
   "outputs": [
    {
     "name": "stdout",
     "output_type": "stream",
     "text": [
      "Incorrect, try again, four : 四 sì\n",
      "\n"
     ]
    }
   ],
   "source": [
    "number = answer +11\n",
    "if answer == n:\n",
    "    print \"You are correct, {}\".format(eng2man[number])\n",
    "else:\n",
    "    print \"Incorrect, try again, {}\".format(eng2man[number])"
   ]
  },
  {
   "cell_type": "code",
   "execution_count": null,
   "metadata": {},
   "outputs": [],
   "source": []
  },
  {
   "cell_type": "code",
   "execution_count": 11,
   "metadata": {},
   "outputs": [
    {
     "name": "stdout",
     "output_type": "stream",
     "text": [
      "妈/媽 mā mother\n",
      "\n",
      "麻 má hemp\n",
      "\n",
      "马/馬 mǎ horse\n",
      "\n",
      "骂/罵 mà scold\n",
      "\n",
      "吗/嗎 ma question particle\n",
      "\n"
     ]
    }
   ],
   "source": [
    "#let's learn some pronunciation\n",
    "with open('pronunciation.txt') as f:\n",
    "    proman = f.readlines()\n",
    "\n",
    "    i = 0\n",
    "while i < 5:\n",
    "    print proman[i]\n",
    "    i = i+1\n",
    "    \n",
    "    "
   ]
  },
  {
   "cell_type": "code",
   "execution_count": 12,
   "metadata": {},
   "outputs": [
    {
     "name": "stdout",
     "output_type": "stream",
     "text": [
      "Hello world! 你好，世界! (Nǐ hǎo, shìjiè)\n"
     ]
    }
   ],
   "source": [
    "text = (\"Hello world! 你好，世界! (Nǐ hǎo, shìjiè)\")\n",
    "print text"
   ]
  },
  {
   "cell_type": "code",
   "execution_count": 13,
   "metadata": {},
   "outputs": [
    {
     "name": "stdout",
     "output_type": "stream",
     "text": [
      "二 èr\n"
     ]
    }
   ],
   "source": [
    "#this is a cheat sheet\n",
    "\n",
    "eng2man = {\"zero: 〇 (零)： líng\"\n",
    "    \"one\" : \"一 yī\" ,\n",
    "\"two\" : '二 èr' ,\n",
    "\"three\" : \"三 sān\",\n",
    "\"four\" : \"四 sì\",\n",
    "\"five\" : \"五 wǔ\",\n",
    "\"six\" : \"六 liù\",\n",
    "\"seven\" : \"七 qī\",\n",
    "\"eight\" : \"八 bā\",\n",
    "\"nine\" : \"九 jiǔ\",\n",
    "\"ten\" : \"十 shí\"}\n",
    "\n",
    "\n",
    "print eng2man[\"two\"]"
   ]
  },
  {
   "cell_type": "code",
   "execution_count": null,
   "metadata": {},
   "outputs": [],
   "source": []
  }
 ],
 "metadata": {
  "kernelspec": {
   "display_name": "Python 2",
   "language": "python",
   "name": "python2"
  },
  "language_info": {
   "codemirror_mode": {
    "name": "ipython",
    "version": 2
   },
   "file_extension": ".py",
   "mimetype": "text/x-python",
   "name": "python",
   "nbconvert_exporter": "python",
   "pygments_lexer": "ipython2",
   "version": "2.7.12"
  }
 },
 "nbformat": 4,
 "nbformat_minor": 2
}
